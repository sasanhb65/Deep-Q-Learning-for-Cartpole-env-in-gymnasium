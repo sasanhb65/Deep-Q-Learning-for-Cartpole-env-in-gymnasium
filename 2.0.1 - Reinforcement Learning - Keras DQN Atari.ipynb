{
  "cells": [
    {
      "cell_type": "markdown",
      "metadata": {
        "id": "view-in-github",
        "colab_type": "text"
      },
      "source": [
        "<a href=\"https://colab.research.google.com/github/sasanhb65/Deep-Q-Learning-for-Cartpole-env-in-gymnasium/blob/main/2.0.1%20-%20Reinforcement%20Learning%20-%20Keras%20DQN%20Atari.ipynb\" target=\"_parent\"><img src=\"https://colab.research.google.com/assets/colab-badge.svg\" alt=\"Open In Colab\"/></a>"
      ]
    },
    {
      "cell_type": "markdown",
      "metadata": {
        "id": "t-zBH-4ecbCn"
      },
      "source": [
        " <a href=\"https://colab.research.google.com/github/ypeleg/keras_rl_tutorial/blob/master/2.0.1%20-%20Reinforcement%20Learning%20-%20Keras%20DQN%20Atari.ipynb\" target=\"_parent\"><img src=\"https://colab.research.google.com/assets/colab-badge.svg\" alt=\"Open In Colab\"/></a>"
      ]
    },
    {
      "cell_type": "markdown",
      "metadata": {
        "id": "Ab1BZEfqcbCp"
      },
      "source": [
        "------"
      ]
    },
    {
      "cell_type": "markdown",
      "metadata": {
        "id": "xs2pXOobcbCp"
      },
      "source": [
        "<div>\n",
        "    <center><strong><h5>Reinforcement Learning Tutorial!</h5></strong></center>\n",
        "    <center><strong><h2>2.0.1 Keras RL - A Standard interface for practical RL. </h2></strong></center>\n",
        "<div>"
      ]
    },
    {
      "cell_type": "markdown",
      "metadata": {
        "id": "5l13VTyUcbCq"
      },
      "source": [
        "------"
      ]
    },
    {
      "cell_type": "markdown",
      "metadata": {
        "id": "Oorg7IRecbCq"
      },
      "source": [
        "<table>\n",
        "  <tr>\n",
        "    <td><img src=\"https://github.com/ypeleg/keras_rl_tutorial/blob/master/img/breakout.gif?raw=1\" width=\"200\"></td>\n",
        "    <td><img src=\"https://github.com/ypeleg/keras_rl_tutorial/blob/master/img/cartpole.gif?raw=1\" width=\"200\"></td>\n",
        "    <td><img src=\"https://github.com/ypeleg/keras_rl_tutorial/blob/master/img/pendulum.gif?raw=1\" width=\"200\"></td>\n",
        "  </tr>\n",
        "</table>"
      ]
    },
    {
      "cell_type": "markdown",
      "metadata": {
        "id": "NL1QVgsMcbCq"
      },
      "source": [
        "## What is it?\n",
        "\n",
        "`keras-rl` implements some state-of-the art deep reinforcement learning algorithms in Python and seamlessly integrates with the deep learning library [Keras](http://keras.io).\n",
        "\n",
        "Furthermore, `keras-rl` works with [OpenAI Gym](https://gym.openai.com/) out of the box. This means that evaluating and playing around with different algorithms is easy.\n",
        "\n",
        "Of course you can extend `keras-rl` according to your own needs. You can use built-in Keras callbacks and metrics or define your own.\n",
        "Even more so, it is easy to implement your own environments and even algorithms by simply extending some simple abstract classes. Documentation is available [online](http://keras-rl.readthedocs.org)."
      ]
    },
    {
      "cell_type": "markdown",
      "metadata": {
        "id": "si-lUV53cbCr"
      },
      "source": [
        "## TL;DR\n",
        "\n",
        "---\n",
        "\n",
        "### DQNAgent\n",
        "\n",
        "```python\n",
        "rl.agents.dqn.DQNAgent(model, policy=None, test_policy=None, enable_double_dqn=True,\n",
        "                       enable_dueling_network=False, dueling_type='avg')\n",
        "```"
      ]
    },
    {
      "cell_type": "markdown",
      "metadata": {
        "id": "6r4EcUP5cbCs"
      },
      "source": [
        "----"
      ]
    },
    {
      "cell_type": "markdown",
      "metadata": {
        "id": "jW1SGjErcbCs"
      },
      "source": [
        "<span style=\"float:right;\">[[source]](https://github.com/keras-rl/keras-rl/blob/master/rl/core.py#L11)</span>\n",
        "### Agent\n",
        "\n",
        "```python\n",
        "rl.core.Agent(processor=None)\n",
        "```\n",
        "\n",
        "Abstract base class for all implemented agents.\n",
        "\n",
        "Each agent interacts with the environment (as defined by the `Env` class) by first observing the\n",
        "state of the environment. Based on this observation the agent changes the environment by performing\n",
        "an action.\n",
        "\n",
        "Do not use this abstract base class directly but instead use one of the concrete agents implemented.\n",
        "Each agent realizes a reinforcement learning algorithm. Since all agents conform to the same\n",
        "interface, you can use them interchangeably.\n",
        "\n",
        "All agents share a common API. This allows you to easily switch between different agents.\n",
        "That being said, keep in mind that some agents make assumptions regarding the action space, i.e. assume discrete\n",
        "or continuous actions.\n",
        "\n",
        "<span style=\"float:right;\">[[source]](https://github.com/keras-rl/keras-rl/blob/master/rl/core.py#L44)</span>\n",
        "\n",
        "### fit\n",
        "\n",
        "\n",
        "```python\n",
        "fit(self, env, nb_steps, action_repetition=1, callbacks=None, verbose=1, visualize=False, nb_max_start_steps=0, start_step_policy=None, log_interval=10000, nb_max_episode_steps=None)\n",
        "```\n",
        "\n",
        "\n",
        "Trains the agent on the given environment.\n",
        "\n",
        "__Arguments__\n",
        "\n",
        "- __env:__ (`Env` instance): Environment that the agent interacts with. See [Env](#env) for details.\n",
        "- __nb_steps__ (integer): Number of training steps to be performed.\n",
        "- __action_repetition__ (integer): Number of times the agent repeats the same action without\n",
        "\tobserving the environment again. Setting this to a value > 1 can be useful\n",
        "\tif a single action only has a very small effect on the environment.\n",
        "- __callbacks__ (list of `keras.callbacks.Callback` or `rl.callbacks.Callback` instances):\n",
        "\tList of callbacks to apply during training. See [callbacks](/callbacks) for details.\n",
        "- __verbose__ (integer): 0 for no logging, 1 for interval logging (compare `log_interval`), 2 for episode logging\n",
        "- __visualize__ (boolean): If `True`, the environment is visualized during training. However,\n",
        "\tthis is likely going to slow down training significantly and is thus intended to be\n",
        "\ta debugging instrument.\n",
        "- __nb_max_start_steps__ (integer): Number of maximum steps that the agent performs at the beginning\n",
        "\tof each episode using `start_step_policy`. Notice that this is an upper limit since\n",
        "\tthe exact number of steps to be performed is sampled uniformly from [0, max_start_steps]\n",
        "\tat the beginning of each episode.\n",
        "- __start_step_policy__ (`lambda observation: action`): The policy\n",
        "\tto follow if `nb_max_start_steps` > 0. If set to `None`, a random action is performed.\n",
        "- __log_interval__ (integer): If `verbose` = 1, the number of steps that are considered to be an interval.\n",
        "- __nb_max_episode_steps__ (integer): Number of steps per episode that the agent performs before\n",
        "\tautomatically resetting the environment. Set to `None` if each episode should run\n",
        "\t(potentially indefinitely) until the environment signals a terminal state.\n",
        "\n",
        "__Returns__\n",
        "\n",
        "A `keras.callbacks.History` instance that recorded the entire training process.\n",
        "\n",
        "----\n",
        "\n",
        "<span style=\"float:right;\">[[source]](https://github.com/keras-rl/keras-rl/blob/master/rl/core.py#L231)</span>\n",
        "\n",
        "### test\n",
        "\n",
        "\n",
        "```python\n",
        "test(self, env, nb_episodes=1, action_repetition=1, callbacks=None, visualize=True, nb_max_episode_steps=None, nb_max_start_steps=0, start_step_policy=None, verbose=1)\n",
        "```\n",
        "\n",
        "\n",
        "- __processor__ (`Processor` instance): See [Processor](#processor) for details.\n",
        "\n",
        "----\n",
        "\n",
        "<span style=\"float:right;\">[[source]](https://github.com/keras-rl/keras-rl/blob/master/rl/core.py#L454)</span>\n",
        "### Processor\n",
        "\n",
        "```python\n",
        "rl.core.Processor()\n",
        "```\n",
        "\n",
        "Abstract base class for implementing processors.\n",
        "\n",
        "A processor acts as a coupling mechanism between an `Agent` and its `Env`. This can\n",
        "be necessary if your agent has different requirements with respect to the form of the\n",
        "observations, actions, and rewards of the environment. By implementing a custom processor,\n",
        "you can effectively translate between the two without having to change the underlaying\n",
        "implementation of the agent or environment.\n",
        "\n",
        "Do not use this abstract base class directly but instead use one of the concrete implementations\n",
        "or write your own.\n",
        "\n",
        "----\n",
        "\n",
        "<span style=\"float:right;\">[[source]](https://github.com/keras-rl/keras-rl/blob/master/rl/core.py#L533)</span>\n",
        "### Env\n",
        "\n",
        "```python\n",
        "rl.core.Env()\n",
        "```\n",
        "\n",
        "The abstract environment class that is used by all agents. This class has the exact\n",
        "same API that OpenAI Gym uses so that integrating with it is trivial. In contrast to the\n",
        "OpenAI Gym implementation, this class only defines the abstract methods without any actual\n",
        "implementation.\n",
        "\n",
        "----\n",
        "\n",
        "<span style=\"float:right;\">[[source]](https://github.com/keras-rl/keras-rl/blob/master/rl/core.py#L609)</span>\n",
        "### Space\n",
        "\n",
        "```python\n",
        "rl.core.Space()\n",
        "```\n",
        "\n",
        "Abstract model for a space that is used for the state and action spaces. This class has the\n",
        "exact same API that OpenAI Gym uses so that integrating with it is trivial.\n"
      ]
    },
    {
      "cell_type": "code",
      "metadata": {
        "id": "3lOBizVa4rVt"
      },
      "source": [
        "### Installations"
      ],
      "execution_count": null,
      "outputs": []
    },
    {
      "cell_type": "code",
      "execution_count": null,
      "metadata": {
        "colab": {
          "base_uri": "https://localhost:8080/"
        },
        "outputId": "388c3746-777e-4ff2-e7c5-9edaaf5ec067",
        "id": "KHn6mkQRcbCt"
      },
      "outputs": [
        {
          "output_type": "stream",
          "name": "stdout",
          "text": [
            "\r0% [Working]\r            \rGet:1 http://security.ubuntu.com/ubuntu jammy-security InRelease [129 kB]\n",
            "\r0% [Connecting to archive.ubuntu.com (185.125.190.82)] [1 InRelease 8,380 B/129 kB 6%] [Connected to\r                                                                                                    \rGet:2 https://cloud.r-project.org/bin/linux/ubuntu jammy-cran40/ InRelease [3,632 B]\n",
            "Get:3 https://developer.download.nvidia.com/compute/cuda/repos/ubuntu2204/x86_64  InRelease [1,581 B]\n",
            "Get:4 https://r2u.stat.illinois.edu/ubuntu jammy InRelease [6,555 B]\n",
            "Hit:5 http://archive.ubuntu.com/ubuntu jammy InRelease\n",
            "Get:6 http://archive.ubuntu.com/ubuntu jammy-updates InRelease [128 kB]\n",
            "Get:7 https://cloud.r-project.org/bin/linux/ubuntu jammy-cran40/ Packages [66.7 kB]\n",
            "Get:8 https://developer.download.nvidia.com/compute/cuda/repos/ubuntu2204/x86_64  Packages [1,309 kB]\n",
            "Hit:9 https://ppa.launchpadcontent.net/deadsnakes/ppa/ubuntu jammy InRelease\n",
            "Get:10 https://ppa.launchpadcontent.net/graphics-drivers/ppa/ubuntu jammy InRelease [24.3 kB]\n",
            "Get:11 http://archive.ubuntu.com/ubuntu jammy-backports InRelease [127 kB]\n",
            "Hit:12 https://ppa.launchpadcontent.net/ubuntugis/ppa/ubuntu jammy InRelease\n",
            "Get:13 http://security.ubuntu.com/ubuntu jammy-security/main amd64 Packages [2,606 kB]\n",
            "Get:14 http://security.ubuntu.com/ubuntu jammy-security/universe amd64 Packages [1,230 kB]\n",
            "Get:15 https://r2u.stat.illinois.edu/ubuntu jammy/main all Packages [8,669 kB]\n",
            "Get:16 https://r2u.stat.illinois.edu/ubuntu jammy/main amd64 Packages [2,653 kB]\n",
            "Get:17 http://archive.ubuntu.com/ubuntu jammy-updates/main amd64 Packages [2,907 kB]\n",
            "Get:18 http://archive.ubuntu.com/ubuntu jammy-updates/universe amd64 Packages [1,523 kB]\n",
            "Fetched 21.4 MB in 6s (3,359 kB/s)\n",
            "Reading package lists... Done\n",
            "W: Skipping acquire of configured file 'main/source/Sources' as repository 'https://r2u.stat.illinois.edu/ubuntu jammy InRelease' does not seem to provide it (sources.list entry misspelt?)\n",
            "Reading package lists... Done\n",
            "Building dependency tree... Done\n",
            "Reading state information... Done\n",
            "The following additional packages will be installed:\n",
            "  libfontenc1 libxfont2 libxkbfile1 x11-xkb-utils xfonts-base xfonts-encodings xfonts-utils\n",
            "  xserver-common\n",
            "The following NEW packages will be installed:\n",
            "  libfontenc1 libxfont2 libxkbfile1 x11-xkb-utils xfonts-base xfonts-encodings xfonts-utils\n",
            "  xserver-common xvfb\n",
            "0 upgraded, 9 newly installed, 0 to remove and 25 not upgraded.\n",
            "Need to get 7,815 kB of archives.\n",
            "After this operation, 11.9 MB of additional disk space will be used.\n",
            "Get:1 http://archive.ubuntu.com/ubuntu jammy/main amd64 libfontenc1 amd64 1:1.1.4-1build3 [14.7 kB]\n",
            "Get:2 http://archive.ubuntu.com/ubuntu jammy/main amd64 libxfont2 amd64 1:2.0.5-1build1 [94.5 kB]\n",
            "Get:3 http://archive.ubuntu.com/ubuntu jammy/main amd64 libxkbfile1 amd64 1:1.1.0-1build3 [71.8 kB]\n",
            "Get:4 http://archive.ubuntu.com/ubuntu jammy/main amd64 x11-xkb-utils amd64 7.7+5build4 [172 kB]\n",
            "Get:5 http://archive.ubuntu.com/ubuntu jammy/main amd64 xfonts-encodings all 1:1.0.5-0ubuntu2 [578 kB]\n",
            "Get:6 http://archive.ubuntu.com/ubuntu jammy/main amd64 xfonts-utils amd64 1:7.7+6build2 [94.6 kB]\n",
            "Get:7 http://archive.ubuntu.com/ubuntu jammy/main amd64 xfonts-base all 1:1.0.5 [5,896 kB]\n",
            "Get:8 http://archive.ubuntu.com/ubuntu jammy-updates/main amd64 xserver-common all 2:21.1.4-2ubuntu1.7~22.04.12 [28.7 kB]\n",
            "Get:9 http://archive.ubuntu.com/ubuntu jammy-updates/universe amd64 xvfb amd64 2:21.1.4-2ubuntu1.7~22.04.12 [864 kB]\n",
            "Fetched 7,815 kB in 1s (5,611 kB/s)\n",
            "Selecting previously unselected package libfontenc1:amd64.\n",
            "(Reading database ... 124926 files and directories currently installed.)\n",
            "Preparing to unpack .../0-libfontenc1_1%3a1.1.4-1build3_amd64.deb ...\n",
            "Unpacking libfontenc1:amd64 (1:1.1.4-1build3) ...\n",
            "Selecting previously unselected package libxfont2:amd64.\n",
            "Preparing to unpack .../1-libxfont2_1%3a2.0.5-1build1_amd64.deb ...\n",
            "Unpacking libxfont2:amd64 (1:2.0.5-1build1) ...\n",
            "Selecting previously unselected package libxkbfile1:amd64.\n",
            "Preparing to unpack .../2-libxkbfile1_1%3a1.1.0-1build3_amd64.deb ...\n",
            "Unpacking libxkbfile1:amd64 (1:1.1.0-1build3) ...\n",
            "Selecting previously unselected package x11-xkb-utils.\n",
            "Preparing to unpack .../3-x11-xkb-utils_7.7+5build4_amd64.deb ...\n",
            "Unpacking x11-xkb-utils (7.7+5build4) ...\n",
            "Selecting previously unselected package xfonts-encodings.\n",
            "Preparing to unpack .../4-xfonts-encodings_1%3a1.0.5-0ubuntu2_all.deb ...\n",
            "Unpacking xfonts-encodings (1:1.0.5-0ubuntu2) ...\n",
            "Selecting previously unselected package xfonts-utils.\n",
            "Preparing to unpack .../5-xfonts-utils_1%3a7.7+6build2_amd64.deb ...\n",
            "Unpacking xfonts-utils (1:7.7+6build2) ...\n",
            "Selecting previously unselected package xfonts-base.\n",
            "Preparing to unpack .../6-xfonts-base_1%3a1.0.5_all.deb ...\n",
            "Unpacking xfonts-base (1:1.0.5) ...\n",
            "Selecting previously unselected package xserver-common.\n",
            "Preparing to unpack .../7-xserver-common_2%3a21.1.4-2ubuntu1.7~22.04.12_all.deb ...\n",
            "Unpacking xserver-common (2:21.1.4-2ubuntu1.7~22.04.12) ...\n",
            "Selecting previously unselected package xvfb.\n",
            "Preparing to unpack .../8-xvfb_2%3a21.1.4-2ubuntu1.7~22.04.12_amd64.deb ...\n",
            "Unpacking xvfb (2:21.1.4-2ubuntu1.7~22.04.12) ...\n",
            "Setting up libfontenc1:amd64 (1:1.1.4-1build3) ...\n",
            "Setting up xfonts-encodings (1:1.0.5-0ubuntu2) ...\n",
            "Setting up libxkbfile1:amd64 (1:1.1.0-1build3) ...\n",
            "Setting up libxfont2:amd64 (1:2.0.5-1build1) ...\n",
            "Setting up x11-xkb-utils (7.7+5build4) ...\n",
            "Setting up xfonts-utils (1:7.7+6build2) ...\n",
            "Setting up xfonts-base (1:1.0.5) ...\n",
            "Setting up xserver-common (2:21.1.4-2ubuntu1.7~22.04.12) ...\n",
            "Setting up xvfb (2:21.1.4-2ubuntu1.7~22.04.12) ...\n",
            "Processing triggers for man-db (2.10.2-1) ...\n",
            "Processing triggers for fontconfig (2.13.1-4.2ubuntu5) ...\n",
            "Processing triggers for libc-bin (2.35-0ubuntu3.8) ...\n",
            "/sbin/ldconfig.real: /usr/local/lib/libtbbbind.so.3 is not a symbolic link\n",
            "\n",
            "/sbin/ldconfig.real: /usr/local/lib/libtcm_debug.so.1 is not a symbolic link\n",
            "\n",
            "/sbin/ldconfig.real: /usr/local/lib/libur_adapter_opencl.so.0 is not a symbolic link\n",
            "\n",
            "/sbin/ldconfig.real: /usr/local/lib/libumf.so.0 is not a symbolic link\n",
            "\n",
            "/sbin/ldconfig.real: /usr/local/lib/libur_loader.so.0 is not a symbolic link\n",
            "\n",
            "/sbin/ldconfig.real: /usr/local/lib/libhwloc.so.15 is not a symbolic link\n",
            "\n",
            "/sbin/ldconfig.real: /usr/local/lib/libtbbmalloc_proxy.so.2 is not a symbolic link\n",
            "\n",
            "/sbin/ldconfig.real: /usr/local/lib/libtcm.so.1 is not a symbolic link\n",
            "\n",
            "/sbin/ldconfig.real: /usr/local/lib/libtbbbind_2_5.so.3 is not a symbolic link\n",
            "\n",
            "/sbin/ldconfig.real: /usr/local/lib/libtbbbind_2_0.so.3 is not a symbolic link\n",
            "\n",
            "/sbin/ldconfig.real: /usr/local/lib/libtbb.so.12 is not a symbolic link\n",
            "\n",
            "/sbin/ldconfig.real: /usr/local/lib/libur_adapter_level_zero.so.0 is not a symbolic link\n",
            "\n",
            "/sbin/ldconfig.real: /usr/local/lib/libtbbmalloc.so.2 is not a symbolic link\n",
            "\n"
          ]
        }
      ],
      "source": [
        "import numpy as np\n",
        "import matplotlib.pyplot as plt\n",
        "%matplotlib inline\n",
        "!apt-get update && apt-get install -y xvfb  --fix-missing\n",
        "!pip install gym\n",
        "!wget https://raw.githubusercontent.com/yandexdataschool/Practical_DL/fall18/xvfb -O ../xvfb\n",
        "!apt-get install -y python-opengl ffmpeg\n",
        "import os\n",
        "!bash ../xvfb start\n",
        "os.environ['DISPLAY'] = ':1'"
      ]
    },
    {
      "cell_type": "code",
      "execution_count": null,
      "metadata": {
        "id": "mJm-pFyPcbCu"
      },
      "outputs": [],
      "source": [
        "!pip install gym\n",
        "!pip install keras-rl --no-deps\n",
        "!pip install 'gym[atari]'\n",
        "print('Done!')"
      ]
    },
    {
      "cell_type": "markdown",
      "metadata": {
        "id": "XYhMHr0BcbCu"
      },
      "source": [
        "## Q-Learning with Neural Networks\n",
        "\n",
        "Now, you may be thinking: tables are great, but they don’t really scale, do they? While it is easy to have a 16x4 table for a simple grid world, the number of possible states in any modern game or real-world environment is nearly infinitely larger. For most interesting problems, tables simply don’t work.\n",
        "\n",
        "We instead need some way to take a description of our state, and produce $Q$-values for actions without a table: that is where neural networks come in. By acting as a function approximator, we can take any number of possible states that can be represented as a vector and learn to map them to $Q$-values."
      ]
    },
    {
      "cell_type": "markdown",
      "metadata": {
        "id": "nbOn1h0vcbCv"
      },
      "source": [
        "In the case of the FrozenLake example, we will be using a one-layer network which takes the state encoded in a one-hot vector (1x16), and produces a vector of 4 $Q$-values, one for each action.\n",
        "\n",
        "Such a simple network acts kind of like a glorified table, with the network weights serving as the old cells. The key difference is that we can easily expand the Tensorflow network with added layers, activation functions, and different input types, whereas all that is impossible with a regular table.\n",
        "\n",
        "<img src=\"https://github.com/ypeleg/keras_rl_tutorial/blob/master/images/pong.jpg?raw=1\" alt=\"\" style=\"width: 300px;\"/>\n",
        "\n",
        "The method of updating is a little different as well.\n",
        "\n",
        "Instead of directly updating our table, with a network we will be using backpropagation and a loss function. Our loss function will be sum-of-squares loss, where the difference between the current predicted $Q$-values, and the “target” value is computed and the gradients passed through the network.\n",
        "\n",
        "In this case, our $Q_{target}$ for the chosen action is the equivalent to the $Q$-value computed in equation above ($\n",
        "Q(s,a) + \\alpha [r + \\gamma max_{a'} Q(s',a') - Q(s,a) ]\n",
        "$).\n",
        "\n",
        "$$\n",
        "Loss = \\sum (Q_{target} - Q_{predicted})^2\n",
        "$$"
      ]
    },
    {
      "cell_type": "code",
      "execution_count": null,
      "metadata": {
        "id": "lGtIsClAcbCv"
      },
      "outputs": [],
      "source": [
        "!pip install keras==2.3.1\n",
        "import tensorflow as tf\n",
        "tf.compat.v1.disable_eager_execution()\n",
        "\n",
        "\n",
        "import keras\n",
        "import matplotlib.pyplot as plt\n",
        "import numpy as np\n",
        "import gym\n",
        "\n",
        "from IPython import display\n",
        "from PIL import Image\n",
        "\n",
        "from keras.models import Sequential, Model\n",
        "from keras.layers import Dense, Activation, Flatten, Convolution2D, Permute, Input\n",
        "from keras.optimizers import Adam\n",
        "\n",
        "from rl.callbacks import Callback\n",
        "from rl.agents.dqn import DQNAgent\n",
        "from rl.policy import LinearAnnealedPolicy, BoltzmannQPolicy, EpsGreedyQPolicy\n",
        "from rl.memory import SequentialMemory\n",
        "from rl.core import Processor\n",
        "from rl.callbacks import FileLogger, ModelIntervalCheckpoint"
      ]
    },
    {
      "cell_type": "markdown",
      "metadata": {
        "id": "4FUKiNShcbCv"
      },
      "source": [
        "Get the environment and extract the number of actions."
      ]
    },
    {
      "cell_type": "code",
      "execution_count": null,
      "metadata": {
        "id": "pwIIISMscbCv"
      },
      "outputs": [],
      "source": [
        "ENV_NAME = 'CartPole-v0'\n",
        "\n",
        "env = gym.make(ENV_NAME)\n",
        "np.random.seed(123)\n",
        "env.seed(123)\n",
        "nb_actions = env.action_space.n"
      ]
    },
    {
      "cell_type": "markdown",
      "metadata": {
        "id": "Rtk4_-dNcbCv"
      },
      "source": [
        "## Deep Q-networks\n",
        "\n",
        "While our ordinary Q-network was able to barely perform as well as the Q-Table in a simple game environment, Deep $Q$-Networks are much more capable. In order to transform an ordinary Q-Network into a DQN we will be making the following improvements:\n",
        "+ Going from a single-layer network to a multi-layer convolutional network.\n",
        "+ Implementing Experience Replay, which will allow our network to train itself using stored memories from it’s experience.\n",
        "+ Utilizing a second “target” network, which we will use to compute target $Q$-values during our updates.\n",
        "\n",
        "<img src=\"https://github.com/ypeleg/keras_rl_tutorial/blob/master/images/deepq1.png?raw=1\" alt=\"\" style=\"width: 800px;\"/>\n",
        "\n",
        "\n",
        "See https://jaromiru.com/2016/09/27/lets-make-a-dqn-theory/"
      ]
    },
    {
      "cell_type": "markdown",
      "metadata": {
        "id": "HrUSMfk_cbCw"
      },
      "source": [
        "### Convolutional Layers\n",
        "\n",
        "Since our agent is going to be learning to play video games, it has to be able to make sense of the game’s screen output in a way that is at least similar to how humans or other intelligent animals are able to. Instead of considering each pixel independently, convolutional layers allow us to consider regions of an image, and maintain spatial relationships between the objects on the screen as we send information up to higher levels of the network.\n",
        "\n",
        "### Experience Replay\n",
        "\n",
        "The second major addition to make DQNs work is Experience Replay.\n",
        "\n",
        "The problem with online learning is that the *samples arrive in order* they are experienced and as such are highly correlated. Because of this, our network will most likely overfit and fail to generalize properly.\n",
        "\n",
        "The key idea of **experience replay** is that we store these transitions in our memory and during each learning step, sample a random batch and perform a gradient descend on it.\n",
        "\n",
        "The Experience Replay buffer stores a fixed number of recent memories, and as new ones come in, old ones are removed. When the time comes to train, we simply draw a uniform batch of random memories from the buffer, and train our network with them.\n",
        "\n",
        "### Separate Target Network\n",
        "\n",
        "This second network is used to generate the $Q$-target values that will be used to compute the loss for every action during training.\n",
        "\n",
        "The issue is that at every step of training, the $Q$-network’s values shift, and if we are using a constantly shifting set of values to adjust our network values, then the value estimations can easily spiral out of control. The network can become destabilized by falling into feedback loops between the target and estimated $Q$-values. In order to mitigate that risk, the target network’s weights are fixed, and only periodically or slowly updated to the primary $Q$-networks values. In this way training can proceed in a more stable manner.\n",
        "\n",
        "Instead of updating the target network periodically and all at once, we will be updating it frequently, but slowly."
      ]
    },
    {
      "cell_type": "markdown",
      "metadata": {
        "id": "dYUSax9rcbCw"
      },
      "source": [
        "While the DQN we have described above could learn ATARI games with enough training, getting the network to perform well on those games takes at least a day of training on a powerful machine."
      ]
    },
    {
      "cell_type": "markdown",
      "metadata": {
        "id": "7rsiqdLscbCw"
      },
      "source": [
        "Next, we build a very simple model."
      ]
    },
    {
      "cell_type": "code",
      "execution_count": null,
      "metadata": {
        "id": "Jl3EVaticbCw",
        "outputId": "7c0a0258-9fda-4da0-e65f-97f8db4d13ee"
      },
      "outputs": [
        {
          "name": "stdout",
          "output_type": "stream",
          "text": [
            "_________________________________________________________________\n",
            "Layer (type)                 Output Shape              Param #   \n",
            "=================================================================\n",
            "input_2 (InputLayer)         (None, 1, 4)              0         \n",
            "_________________________________________________________________\n",
            "flatten_2 (Flatten)          (None, 4)                 0         \n",
            "_________________________________________________________________\n",
            "dense_7 (Dense)              (None, 16)                80        \n",
            "_________________________________________________________________\n",
            "activation_5 (Activation)    (None, 16)                0         \n",
            "_________________________________________________________________\n",
            "dense_8 (Dense)              (None, 16)                272       \n",
            "_________________________________________________________________\n",
            "activation_6 (Activation)    (None, 16)                0         \n",
            "_________________________________________________________________\n",
            "dense_9 (Dense)              (None, 16)                272       \n",
            "_________________________________________________________________\n",
            "activation_7 (Activation)    (None, 16)                0         \n",
            "_________________________________________________________________\n",
            "dense_10 (Dense)             (None, 2)                 34        \n",
            "_________________________________________________________________\n",
            "activation_8 (Activation)    (None, 2)                 0         \n",
            "=================================================================\n",
            "Total params: 658\n",
            "Trainable params: 658\n",
            "Non-trainable params: 0\n",
            "_________________________________________________________________\n"
          ]
        }
      ],
      "source": [
        "inp = Input(shape=(1,) + env.observation_space.shape )\n",
        "x = Flatten()(inp)\n",
        "x = Dense(16)(x)\n",
        "x = Activation('relu')(x)\n",
        "x = Dense(16)(x)\n",
        "x = Activation('relu')(x)\n",
        "x = Dense(16)(x)\n",
        "x = Activation('relu')(x)\n",
        "x = Dense(nb_actions)(x)\n",
        "x = Activation('linear')(x)\n",
        "model = Model(inputs=inp, outputs=x)\n",
        "model.summary()"
      ]
    },
    {
      "cell_type": "markdown",
      "metadata": {
        "id": "mCsglKz2cbCx"
      },
      "source": [
        "Finally, we configure and compile our agent. You can use every built-in Keras optimizer and\n",
        "even the metrics!"
      ]
    },
    {
      "cell_type": "code",
      "execution_count": null,
      "metadata": {
        "id": "8hcMYWdqcbCx"
      },
      "outputs": [],
      "source": [
        "memory = SequentialMemory(limit=50000, window_length=1)\n",
        "policy = BoltzmannQPolicy()"
      ]
    },
    {
      "cell_type": "code",
      "execution_count": null,
      "metadata": {
        "id": "rAokAyrXcbCy"
      },
      "outputs": [],
      "source": [
        "#single\n",
        "dqn = DQNAgent(model=model, nb_actions=nb_actions, memory=memory, nb_steps_warmup=10,\n",
        "               target_model_update=1e-2, policy=policy)\n",
        "dqn.compile(Adam(lr=1e-3), metrics=['mae'])"
      ]
    },
    {
      "cell_type": "code",
      "execution_count": null,
      "metadata": {
        "id": "PoJRmDCwcbCy"
      },
      "outputs": [],
      "source": [
        "#dual\n",
        "dqn = DQNAgent(model=model, nb_actions=nb_actions, memory=memory, nb_steps_warmup=10,\n",
        "               enable_dueling_network=True, dueling_type='avg', target_model_update=1e-2, policy=policy)\n",
        "dqn.compile(Adam(lr=1e-3), metrics=['mae'])"
      ]
    },
    {
      "cell_type": "markdown",
      "metadata": {
        "id": "b4jMTJx5cbCy"
      },
      "source": [
        "# Renderer\n",
        "for live animation in jupyter while running those command.\n",
        "in case you are running on your local device you can comment the bottom lines and and run full local environment! (It looks nicer :) )"
      ]
    },
    {
      "cell_type": "code",
      "execution_count": null,
      "metadata": {
        "id": "-3u64W6UcbCy"
      },
      "outputs": [],
      "source": [
        "class Render(Callback):\n",
        "    def on_step_end(self, step, logs={}):\n",
        "        plt.clf()\n",
        "        plt.imshow(env.render(mode='rgb_array'))\n",
        "        display.display(plt.gcf())\n",
        "        display.clear_output(wait=True)"
      ]
    },
    {
      "cell_type": "markdown",
      "metadata": {
        "id": "GfhcPQ94cbCz"
      },
      "source": [
        "Okay, now it's time to learn something! We visualize the training here for show, but this\n",
        "slows down training quite a lot. You can always safely abort the training prematurely using\n",
        "Ctrl + C."
      ]
    },
    {
      "cell_type": "code",
      "execution_count": null,
      "metadata": {
        "id": "a999OfaZcbCz",
        "outputId": "9219dcfe-49a5-4059-c9f6-c1dbf7a7d8a9"
      },
      "outputs": [
        {
          "name": "stdout",
          "output_type": "stream",
          "text": [
            "   72/10000 [..............................] - ETA: 26:53 - reward: 1.0000done, took 11.757 seconds\n"
          ]
        },
        {
          "data": {
            "text/plain": [
              "<keras.callbacks.History at 0x7fc3c0301850>"
            ]
          },
          "execution_count": 27,
          "metadata": {},
          "output_type": "execute_result"
        },
        {
          "data": {
            "image/png": "[encoded data removed]",
            "text/plain": [
              "<Figure size 432x288 with 1 Axes>"
            ]
          },
          "metadata": {
            "needs_background": "light"
          },
          "output_type": "display_data"
        }
      ],
      "source": [
        "# nb_steps represents the number of steps, you can try and change it\n",
        "dqn.fit(env, callbacks=[Render()], nb_steps=100, visualize=False, log_interval=10000)"
      ]
    },
    {
      "cell_type": "markdown",
      "metadata": {
        "id": "QTTlmoIWcbCz"
      },
      "source": [
        "If you are running locally, uncomment this out!"
      ]
    },
    {
      "cell_type": "code",
      "execution_count": null,
      "metadata": {
        "id": "QZ5L4xKlcbCz"
      },
      "outputs": [],
      "source": [
        "# #nb_steps represents the number of steps, you can try and change it\n",
        "# dqn.fit(env, nb_steps=100, visualize=True, verbose=2)"
      ]
    },
    {
      "cell_type": "markdown",
      "metadata": {
        "id": "JZfaPX90cbCz"
      },
      "source": [
        "After training is done, we save the final weights."
      ]
    },
    {
      "cell_type": "code",
      "execution_count": null,
      "metadata": {
        "id": "mXUH_7fRcbCz"
      },
      "outputs": [],
      "source": [
        "dqn.save_weights('dqn_{}_weights.h5f'.format(ENV_NAME), overwrite=True)"
      ]
    },
    {
      "cell_type": "markdown",
      "metadata": {
        "id": "LY1-7cj3cbCz"
      },
      "source": [
        "Finally, evaluate our algorithm for 5 episodes."
      ]
    },
    {
      "cell_type": "code",
      "execution_count": null,
      "metadata": {
        "id": "y6DtNotecbC0"
      },
      "outputs": [],
      "source": [
        "dqn.test(env, nb_episodes=5, callbacks=[Render()], visualize=False)"
      ]
    },
    {
      "cell_type": "markdown",
      "metadata": {
        "id": "aJpLBv2gcbC0"
      },
      "source": [
        "If you are running locally, uncomment this out!"
      ]
    },
    {
      "cell_type": "markdown",
      "metadata": {
        "id": "Jf2Yuf1ycbC0"
      },
      "source": [
        "### SARSA & Expected SARSA\n",
        "\n",
        "Let's say that:\n",
        "\n",
        "$$X_t \\in \\{ v_t, \\hat{v_t} \\}$$\n",
        "\n",
        "where in expected SARSA:\n",
        "\n",
        "$$ v_t = r_t + \\gamma \\sum_a \\pi_t (s_{t+1}, a) Q_t (s_{t+1}, a)$$\n",
        "\n",
        "and in SARSA:\n",
        "\n",
        "$$ \\hat{v_t} = r_t + \\gamma Q_t (s_{t+1}, a_{t+1})$$\n",
        "\n",
        "Bias is represented by:\n",
        "\n",
        "$$Bias(s,a) = Q^{\\pi} (s,a) - E\\{X_t\\}$$\n",
        "\n",
        "Variance is denoted by:\n",
        "\n",
        "$$Var(s,a) = E\\{(X_t)^2\\} - (E\\{X_t\\})^2$$\n"
      ]
    },
    {
      "cell_type": "code",
      "execution_count": null,
      "metadata": {
        "id": "wIjXjZnZcbC0"
      },
      "outputs": [],
      "source": [
        "import gym\n",
        "import numpy as np\n",
        "from keras.models import Sequential, Model\n",
        "from keras.optimizers import Adam\n",
        "from keras.layers import Input, Dense, Activation, Flatten\n",
        "from rl.agents import SARSAAgent\n",
        "from rl.policy import BoltzmannQPolicy"
      ]
    },
    {
      "cell_type": "markdown",
      "metadata": {
        "id": "E8ydXE8QcbC4"
      },
      "source": [
        "Get the environment and extract the number of actions."
      ]
    },
    {
      "cell_type": "code",
      "execution_count": null,
      "metadata": {
        "id": "FOst6CZMcbC5"
      },
      "outputs": [],
      "source": [
        "ENV_NAME = 'CartPole-v0'\n",
        "\n",
        "env = gym.make(ENV_NAME)\n",
        "np.random.seed(123)\n",
        "env.seed(123)\n",
        "nb_actions = env.action_space.n"
      ]
    },
    {
      "cell_type": "markdown",
      "metadata": {
        "id": "XmFY3JftcbC5"
      },
      "source": [
        "Next, we build a very simple model."
      ]
    },
    {
      "cell_type": "code",
      "execution_count": null,
      "metadata": {
        "id": "xN80qrM4cbC5",
        "outputId": "b88f58bf-e3fe-461c-9568-781072c59869"
      },
      "outputs": [
        {
          "name": "stdout",
          "output_type": "stream",
          "text": [
            "_________________________________________________________________\n",
            "Layer (type)                 Output Shape              Param #   \n",
            "=================================================================\n",
            "input_3 (InputLayer)         (None, 1, 4)              0         \n",
            "_________________________________________________________________\n",
            "flatten_3 (Flatten)          (None, 4)                 0         \n",
            "_________________________________________________________________\n",
            "dense_12 (Dense)             (None, 16)                80        \n",
            "_________________________________________________________________\n",
            "activation_9 (Activation)    (None, 16)                0         \n",
            "_________________________________________________________________\n",
            "dense_13 (Dense)             (None, 16)                272       \n",
            "_________________________________________________________________\n",
            "activation_10 (Activation)   (None, 16)                0         \n",
            "_________________________________________________________________\n",
            "dense_14 (Dense)             (None, 16)                272       \n",
            "_________________________________________________________________\n",
            "activation_11 (Activation)   (None, 16)                0         \n",
            "_________________________________________________________________\n",
            "dense_15 (Dense)             (None, 2)                 34        \n",
            "_________________________________________________________________\n",
            "activation_12 (Activation)   (None, 2)                 0         \n",
            "=================================================================\n",
            "Total params: 658\n",
            "Trainable params: 658\n",
            "Non-trainable params: 0\n",
            "_________________________________________________________________\n"
          ]
        }
      ],
      "source": [
        "inp = Input(shape=(1,) + env.observation_space.shape)\n",
        "x = Flatten()(inp)\n",
        "x = Dense(16)(x)\n",
        "x = Activation('relu')(x)\n",
        "x = Dense(16)(x)\n",
        "x = Activation('relu')(x)\n",
        "x = Dense(16)(x)\n",
        "x = Activation('relu')(x)\n",
        "x = Dense(nb_actions)(x)\n",
        "x = Activation('linear')(x)\n",
        "model = Model(inputs=inp, outputs=x)\n",
        "model.summary()"
      ]
    },
    {
      "cell_type": "markdown",
      "metadata": {
        "id": "mK6NFNt7cbC5"
      },
      "source": [
        "SARSA does not require a memory."
      ]
    },
    {
      "cell_type": "code",
      "execution_count": null,
      "metadata": {
        "id": "w2Wo9i96cbC5"
      },
      "outputs": [],
      "source": [
        "policy = BoltzmannQPolicy()\n",
        "sarsa = SARSAAgent(model=model, nb_actions=nb_actions, nb_steps_warmup=10, policy=policy)\n",
        "sarsa.compile(Adam(lr=1e-3), metrics=['mae'])"
      ]
    },
    {
      "cell_type": "markdown",
      "metadata": {
        "id": "QiKmxndncbC6"
      },
      "source": [
        "Okay, now it's time to learn something! We visualize the training here for show, but this\n",
        "slows down training quite a lot. You can always safely abort the training prematurely using\n",
        "Ctrl + C."
      ]
    },
    {
      "cell_type": "code",
      "execution_count": null,
      "metadata": {
        "id": "BuAyk9vxcbC6",
        "outputId": "8bcef79d-7caf-411c-f516-19359ecfdf7e"
      },
      "outputs": [
        {
          "name": "stdout",
          "output_type": "stream",
          "text": [
            "   18/10000 [..............................] - ETA: 26:49 - reward: 1.0000done, took 3.035 seconds\n"
          ]
        },
        {
          "data": {
            "text/plain": [
              "<keras.callbacks.History at 0x7fc3b9d8b810>"
            ]
          },
          "execution_count": 33,
          "metadata": {},
          "output_type": "execute_result"
        },
        {
          "data": {
            "image/png": "[encoded data removed]",
            "text/plain": [
              "<Figure size 432x288 with 1 Axes>"
            ]
          },
          "metadata": {
            "needs_background": "light"
          },
          "output_type": "display_data"
        }
      ],
      "source": [
        "# nb_steps represents the number of steps, you can try and change it\n",
        "dqn.fit(env, callbacks=[Render()], nb_steps=1000, log_interval=10000)"
      ]
    },
    {
      "cell_type": "markdown",
      "metadata": {
        "id": "lIOeH5g3cbC6"
      },
      "source": [
        "If you are running locally, uncomment this out!"
      ]
    },
    {
      "cell_type": "code",
      "execution_count": null,
      "metadata": {
        "id": "xvwigiv3cbC6"
      },
      "outputs": [],
      "source": [
        "# #nb_steps represents the number of steps, you can try and change it\n",
        "# sarsa.fit(env, nb_steps=10000, visualize=True, verbose=2)"
      ]
    },
    {
      "cell_type": "markdown",
      "metadata": {
        "id": "-cTo7AqzcbC6"
      },
      "source": [
        "After training is done, we save the final weights."
      ]
    },
    {
      "cell_type": "code",
      "execution_count": null,
      "metadata": {
        "id": "d6hhGfxycbC6"
      },
      "outputs": [],
      "source": [
        "sarsa.save_weights('sarsa_{}_weights.h5f'.format(ENV_NAME), overwrite=True)"
      ]
    },
    {
      "cell_type": "markdown",
      "metadata": {
        "id": "5dWRco9UcbC6"
      },
      "source": [
        "Finally, evaluate our algorithm for 5 episodes."
      ]
    },
    {
      "cell_type": "code",
      "execution_count": null,
      "metadata": {
        "id": "Gw-bKGU9cbC7"
      },
      "outputs": [],
      "source": [
        "dqn.test(env, nb_episodes=5, callbacks=[Render()], visualize=False)"
      ]
    },
    {
      "cell_type": "markdown",
      "metadata": {
        "id": "ol0sKgktcbC7"
      },
      "source": [
        "If you are running locally, uncomment this out!"
      ]
    },
    {
      "cell_type": "code",
      "execution_count": null,
      "metadata": {
        "id": "n88RI9H9cbC7"
      },
      "outputs": [],
      "source": [
        "# sarsa.test(env, nb_episodes=5, visualize=True)"
      ]
    },
    {
      "cell_type": "markdown",
      "metadata": {
        "id": "jNfXYd5zcbC7"
      },
      "source": [
        "## Deep Q-networks\n",
        "\n",
        "While our ordinary Q-network was able to barely perform as well as the Q-Table in a simple game environment, Deep $Q$-Networks are much more capable. In order to transform an ordinary Q-Network into a DQN we will be making the following improvements:\n",
        "+ Going from a single-layer network to a multi-layer convolutional network.\n",
        "+ Implementing Experience Replay, which will allow our network to train itself using stored memories from it’s experience.\n",
        "+ Utilizing a second “target” network, which we will use to compute target $Q$-values during our updates.\n",
        "\n",
        "<img src=\"https://github.com/ypeleg/keras_rl_tutorial/blob/master/images/deepq1.png?raw=1\" alt=\"\" style=\"width: 800px;\"/>\n",
        "\n",
        "\n",
        "See https://jaromiru.com/2016/09/27/lets-make-a-dqn-theory/"
      ]
    },
    {
      "cell_type": "markdown",
      "metadata": {
        "id": "4y8D_Rs1cbC7"
      },
      "source": [
        "### Convolutional Layers\n",
        "\n",
        "Since our agent is going to be learning to play video games, it has to be able to make sense of the game’s screen output in a way that is at least similar to how humans or other intelligent animals are able to. Instead of considering each pixel independently, convolutional layers allow us to consider regions of an image, and maintain spatial relationships between the objects on the screen as we send information up to higher levels of the network.\n",
        "\n",
        "### Experience Replay\n",
        "\n",
        "The second major addition to make DQNs work is Experience Replay.\n",
        "\n",
        "The problem with online learning is that the *samples arrive in order* they are experienced and as such are highly correlated. Because of this, our network will most likely overfit and fail to generalize properly.\n",
        "\n",
        "The key idea of **experience replay** is that we store these transitions in our memory and during each learning step, sample a random batch and perform a gradient descend on it.\n",
        "\n",
        "The Experience Replay buffer stores a fixed number of recent memories, and as new ones come in, old ones are removed. When the time comes to train, we simply draw a uniform batch of random memories from the buffer, and train our network with them.\n",
        "\n",
        "### Separate Target Network\n",
        "\n",
        "This second network is used to generate the $Q$-target values that will be used to compute the loss for every action during training.\n",
        "\n",
        "The issue is that at every step of training, the $Q$-network’s values shift, and if we are using a constantly shifting set of values to adjust our network values, then the value estimations can easily spiral out of control. The network can become destabilized by falling into feedback loops between the target and estimated $Q$-values. In order to mitigate that risk, the target network’s weights are fixed, and only periodically or slowly updated to the primary $Q$-networks values. In this way training can proceed in a more stable manner.\n",
        "\n",
        "Instead of updating the target network periodically and all at once, we will be updating it frequently, but slowly."
      ]
    },
    {
      "cell_type": "markdown",
      "metadata": {
        "id": "-hZfklojcbC8"
      },
      "source": [
        "While the DQN we have described above could learn ATARI games with enough training, getting the network to perform well on those games takes at least a day of training on a powerful machine."
      ]
    },
    {
      "cell_type": "code",
      "metadata": {
        "id": "kLZ9eda8cbC8"
      },
      "source": [
        "### Installations"
      ],
      "execution_count": null,
      "outputs": []
    },
    {
      "cell_type": "code",
      "execution_count": null,
      "metadata": {
        "id": "HX72ZW6rcbC8"
      },
      "outputs": [],
      "source": [
        "import os\n",
        "if not os.path.exists('keras_rl_tutorial'): os.system('git clone https://github.com/ypeleg/keras_rl_tutorial/')\n",
        "os.chdir('keras_rl_tutorial')"
      ]
    },
    {
      "cell_type": "code",
      "execution_count": null,
      "metadata": {
        "id": "mQMPpr_xcbC8"
      },
      "outputs": [],
      "source": [
        "import keras\n",
        "keras.__version__\n",
        "from tensorflow.python.client import device_lib\n",
        "device_lib.list_local_devices()\n",
        "print('Running! \\nPlease dont interrupt this cell. It might cause serious issues..')\n",
        "!pip install gym keras-rl pyglet==1.2.4\n",
        "# !apt-get install -y cmake zlib1g-dev libjpeg-dev xvfb ffmpeg xorg-dev python-opengl libboost-all-dev libsdl2-dev swig\n",
        "!pip install 'gym[atari]'\n",
        "print('Done!')"
      ]
    },
    {
      "cell_type": "code",
      "metadata": {
        "id": "Civ1Fq0ucbC8"
      },
      "source": [
        "### Imports"
      ],
      "execution_count": null,
      "outputs": []
    },
    {
      "cell_type": "code",
      "execution_count": null,
      "metadata": {
        "id": "v1leKHWtcbC8"
      },
      "outputs": [],
      "source": [
        "import matplotlib.pyplot as plt\n",
        "%matplotlib inline\n",
        "from PIL import Image\n",
        "import numpy as np\n",
        "import gym\n",
        "import matplotlib.pyplot as plt\n",
        "import numpy as np\n",
        "import gym\n",
        "\n",
        "from IPython import display\n",
        "from PIL import Image\n",
        "\n",
        "from keras.callbacks import Callback\n",
        "from keras.models import Model\n",
        "from keras.layers import Dense, Activation, Flatten, Convolution2D, Permute, Input\n",
        "from keras.optimizers import Adam\n",
        "import keras.backend as K\n",
        "\n",
        "from rl.agents.dqn import DQNAgent\n",
        "from rl.policy import LinearAnnealedPolicy, BoltzmannQPolicy, EpsGreedyQPolicy\n",
        "from rl.memory import SequentialMemory\n",
        "from rl.core import Processor\n",
        "from rl.callbacks import FileLogger, ModelIntervalCheckpoint"
      ]
    },
    {
      "cell_type": "code",
      "execution_count": null,
      "metadata": {
        "id": "Nbkx_XqBcbC9"
      },
      "outputs": [],
      "source": [
        "INPUT_SHAPE = (84, 84)\n",
        "WINDOW_LENGTH = 4\n",
        "ENV_NAME = 'BreakoutDeterministic-v4'"
      ]
    },
    {
      "cell_type": "code",
      "execution_count": null,
      "metadata": {
        "id": "FWxvnxe4cbC9"
      },
      "outputs": [],
      "source": [
        "class AtariProcessor(Processor):\n",
        "    def process_observation(self, observation):\n",
        "        assert observation.ndim == 3  # (height, width, channel)\n",
        "        img = Image.fromarray(observation)\n",
        "        img = img.resize(INPUT_SHAPE).convert('L')  # resize and convert to grayscale\n",
        "        processed_observation = np.array(img)\n",
        "        assert processed_observation.shape == INPUT_SHAPE\n",
        "        return processed_observation.astype('uint8')  # saves storage in experience memory\n",
        "\n",
        "    def process_state_batch(self, batch):\n",
        "        # We could perform this processing step in `process_observation`. In this case, however,\n",
        "        # we would need to store a `float32` array instead, which is 4x more memory intensive than\n",
        "        # an `uint8` array. This matters if we store 1M observations.\n",
        "        processed_batch = batch.astype('float32') / 255.\n",
        "        return processed_batch\n",
        "\n",
        "    def process_reward(self, reward):\n",
        "        return np.clip(reward, -1., 1.)"
      ]
    },
    {
      "cell_type": "markdown",
      "metadata": {
        "id": "T1IEpopucbC9"
      },
      "source": [
        "Get the environment and extract the number of actions."
      ]
    },
    {
      "cell_type": "code",
      "execution_count": null,
      "metadata": {
        "id": "Q6r50kRicbC9"
      },
      "outputs": [],
      "source": [
        "env = gym.make(ENV_NAME)\n",
        "np.random.seed(123)\n",
        "env.seed(123)\n",
        "nb_actions = env.action_space.n"
      ]
    },
    {
      "cell_type": "markdown",
      "metadata": {
        "id": "jqFuK1FicbC9"
      },
      "source": [
        "Next, we build our model. We use the same model that was described by Mnih et al. (2015)."
      ]
    },
    {
      "cell_type": "code",
      "execution_count": null,
      "metadata": {
        "id": "Y1BvZfITcbC-",
        "outputId": "7221ba84-d831-4217-cc5c-c3167e959a0a"
      },
      "outputs": [
        {
          "name": "stdout",
          "output_type": "stream",
          "text": [
            "WARNING:tensorflow:From /home/user/anaconda2/lib/python2.7/site-packages/tensorflow/python/framework/op_def_library.py:263: colocate_with (from tensorflow.python.framework.ops) is deprecated and will be removed in a future version.\n",
            "Instructions for updating:\n",
            "Colocations handled automatically by placer.\n",
            "_________________________________________________________________\n",
            "Layer (type)                 Output Shape              Param #   \n",
            "=================================================================\n",
            "input_1 (InputLayer)         (None, 4, 84, 84)         0         \n",
            "_________________________________________________________________\n",
            "permute_1 (Permute)          (None, 84, 84, 4)         0         \n",
            "_________________________________________________________________\n",
            "conv2d_1 (Conv2D)            (None, 20, 20, 32)        8224      \n",
            "_________________________________________________________________\n",
            "activation_1 (Activation)    (None, 20, 20, 32)        0         \n",
            "_________________________________________________________________\n",
            "conv2d_2 (Conv2D)            (None, 9, 9, 64)          32832     \n",
            "_________________________________________________________________\n",
            "activation_2 (Activation)    (None, 9, 9, 64)          0         \n",
            "_________________________________________________________________\n",
            "conv2d_3 (Conv2D)            (None, 4, 4, 64)          36928     \n",
            "_________________________________________________________________\n",
            "activation_3 (Activation)    (None, 4, 4, 64)          0         \n",
            "_________________________________________________________________\n",
            "flatten_1 (Flatten)          (None, 1024)              0         \n",
            "_________________________________________________________________\n",
            "dense_1 (Dense)              (None, 512)               524800    \n",
            "_________________________________________________________________\n",
            "activation_4 (Activation)    (None, 512)               0         \n",
            "_________________________________________________________________\n",
            "dense_2 (Dense)              (None, 4)                 2052      \n",
            "_________________________________________________________________\n",
            "activation_5 (Activation)    (None, 4)                 0         \n",
            "=================================================================\n",
            "Total params: 604,836\n",
            "Trainable params: 604,836\n",
            "Non-trainable params: 0\n",
            "_________________________________________________________________\n"
          ]
        }
      ],
      "source": [
        "input_shape = (WINDOW_LENGTH,) + INPUT_SHAPE\n",
        "\n",
        "inp = Input(shape=input_shape)\n",
        "X = Permute((2, 3, 1))(inp)\n",
        "X = Convolution2D(32, (8, 8), strides=(4, 4))(X)\n",
        "X = Activation('relu')(X)\n",
        "X = Convolution2D(64, (4, 4), strides=(2, 2))(X)\n",
        "X = Activation('relu')(X)\n",
        "X = Convolution2D(64, (3, 3), strides=(2, 2))(X)\n",
        "X = Activation('relu')(X)\n",
        "X = Flatten()(X)\n",
        "X = Dense(512)(X)\n",
        "X = Activation('relu')(X)\n",
        "X = Dense(nb_actions)(X)\n",
        "X = Activation('linear')(X)\n",
        "model = Model(inputs=inp, outputs=X)\n",
        "model.summary()"
      ]
    },
    {
      "cell_type": "markdown",
      "metadata": {
        "id": "acrg1quvcbC-"
      },
      "source": [
        "Finally, we configure and compile our agent. You can use every built-in Keras optimizer and even the metrics!"
      ]
    },
    {
      "cell_type": "code",
      "execution_count": null,
      "metadata": {
        "id": "7ffdqQJecbC-"
      },
      "outputs": [],
      "source": [
        "memory = SequentialMemory(limit=1000000, window_length=WINDOW_LENGTH)\n",
        "processor = AtariProcessor()"
      ]
    },
    {
      "cell_type": "markdown",
      "metadata": {
        "id": "0WJHhpSGcbC-"
      },
      "source": [
        "Select a policy. We use eps-greedy action selection, which means that a random action is selected with probability eps. We anneal eps from 1.0 to 0.1 over the course of 1M steps. This is done so that the agent initially explores the environment (high eps) and then gradually sticks to what it knows (low eps). We also set a dedicated eps value that is used during testing. Note that we set it to 0.05 so that the agent still performs some random actions. This ensures that the agent cannot get stuck."
      ]
    },
    {
      "cell_type": "code",
      "execution_count": null,
      "metadata": {
        "id": "UM3dIhJTcbC-"
      },
      "outputs": [],
      "source": [
        "policy = LinearAnnealedPolicy(EpsGreedyQPolicy(), attr='eps', value_max=1., value_min=.1, value_test=.05,\n",
        "                              nb_steps=1000000)"
      ]
    },
    {
      "cell_type": "markdown",
      "metadata": {
        "id": "fpEW94evcbC-"
      },
      "source": [
        "The trade-off between exploration and exploitation is difficult and an on-going research topic. If you want, you can experiment with the parameters or use a different policy. Another popular one is Boltzmann-style exploration:\n",
        "policy = BoltzmannQPolicy(tau=1.) Feel free to give it a try!"
      ]
    },
    {
      "cell_type": "code",
      "execution_count": null,
      "metadata": {
        "id": "Y2acyGQ9cbC_"
      },
      "outputs": [],
      "source": [
        "dqn = DQNAgent(model=model, nb_actions=nb_actions, policy=policy, memory=memory,\n",
        "               processor=processor, nb_steps_warmup=50000, gamma=.99, target_model_update=10000,\n",
        "               train_interval=4, delta_clip=1.)\n",
        "dqn.compile(Adam(lr=.00025), metrics=['mae'])"
      ]
    },
    {
      "cell_type": "markdown",
      "metadata": {
        "id": "LGxWy3-McbC_"
      },
      "source": [
        "Okay, now it's time to learn something! We capture the interrupt exception so that training\n",
        "can be prematurely aborted. Notice that now you can use the built-in Keras callbacks!"
      ]
    },
    {
      "cell_type": "code",
      "execution_count": null,
      "metadata": {
        "id": "TQOTwjD0cbC_",
        "outputId": "239a01f8-6a30-40cf-f507-f26f2859ce4f"
      },
      "outputs": [
        {
          "name": "stdout",
          "output_type": "stream",
          "text": [
            "Training for 1750000 steps ...\n",
            "Interval 1 (0 steps performed)\n",
            " 793/5000 [===>..........................] - ETA: 9s - reward: 0.0063done, took 1.842 seconds\n"
          ]
        },
        {
          "data": {
            "text/plain": [
              "<keras.callbacks.History at 0x7fc5545cd0d0>"
            ]
          },
          "execution_count": 9,
          "metadata": {},
          "output_type": "execute_result"
        }
      ],
      "source": [
        "weights_filename = 'dqn_{}_weights.h5f'.format(ENV_NAME)\n",
        "checkpoint_weights_filename = 'dqn_' + ENV_NAME + '_weights_{step}.h5f'\n",
        "log_filename = 'dqn_{}_log.json'.format(ENV_NAME)\n",
        "callbacks = [ModelIntervalCheckpoint(checkpoint_weights_filename, interval=250000)]\n",
        "callbacks += [FileLogger(log_filename, interval=100)]\n",
        "# dqn.fit(env, callbacks=callbacks, nb_steps=1750000, log_interval=10000)\n",
        "dqn.fit(env, callbacks=callbacks, nb_steps=1750000, log_interval=5000)"
      ]
    },
    {
      "cell_type": "markdown",
      "metadata": {
        "id": "gwTZV-OJcbC_"
      },
      "source": [
        "After training is done, we save the final weights one more time."
      ]
    },
    {
      "cell_type": "code",
      "execution_count": null,
      "metadata": {
        "id": "KZepEF5PcbC_"
      },
      "outputs": [],
      "source": [
        "dqn.save_weights(weights_filename, overwrite=True)"
      ]
    },
    {
      "cell_type": "markdown",
      "metadata": {
        "id": "Q9_gSy_NcbDA"
      },
      "source": [
        "## Let's test it!"
      ]
    },
    {
      "cell_type": "code",
      "execution_count": null,
      "metadata": {
        "id": "Gvsv3k2vcbDA"
      },
      "outputs": [],
      "source": [
        "weights_filename = 'dqn_{}_weights.h5f'.format(ENV_NAME)\n",
        "dqn.load_weights(weights_filename)"
      ]
    },
    {
      "cell_type": "markdown",
      "metadata": {
        "id": "7Rn30I7DcbDA"
      },
      "source": [
        "# Renderer\n",
        "for live animation in jupyter while running those command.\n",
        "in case you are running on your local device you can comment the bottom lines and and run full local environment! (It looks nicer :) )"
      ]
    },
    {
      "cell_type": "code",
      "execution_count": null,
      "metadata": {
        "id": "idoXyga-cbDA"
      },
      "outputs": [],
      "source": [
        "class Render(Callback):\n",
        "    def on_step_end(self, step, logs={}):\n",
        "        plt.clf()\n",
        "        plt.imshow(env.render(mode='rgb_array'))\n",
        "        display.display(plt.gcf())\n",
        "        display.clear_output(wait=True)"
      ]
    },
    {
      "cell_type": "markdown",
      "metadata": {
        "id": "dYjZ-x8jcbDA"
      },
      "source": [
        "Finally, evaluate our algorithm for 10 episodes."
      ]
    },
    {
      "cell_type": "code",
      "execution_count": null,
      "metadata": {
        "id": "DK0xkLoAcbDA",
        "outputId": "39a815b2-5cb6-48ee-d113-dc4c7e02a391"
      },
      "outputs": [
        {
          "data": {
            "image/png": "[encoded data removed]",
            "text/plain": [
              "<Figure size 432x288 with 1 Axes>"
            ]
          },
          "metadata": {},
          "output_type": "display_data"
        }
      ],
      "source": [
        "dqn.test(env, nb_episodes=10, visualize=False, callbacks=[Render()])"
      ]
    },
    {
      "cell_type": "markdown",
      "metadata": {
        "id": "S9Hnwo87cbDB"
      },
      "source": [
        "And for those running locally"
      ]
    },
    {
      "cell_type": "code",
      "execution_count": null,
      "metadata": {
        "id": "Fdy135L8cbDB"
      },
      "outputs": [],
      "source": [
        "# dqn.test(env, nb_episodes=10, visualize=True)"
      ]
    },
    {
      "cell_type": "markdown",
      "metadata": {
        "id": "-Qi4EHy5cbDB"
      },
      "source": [
        "And test it!"
      ]
    },
    {
      "cell_type": "code",
      "execution_count": null,
      "metadata": {
        "id": "Fe-IUeq8cbDB",
        "outputId": "b6b14315-e405-4db2-9c45-df2c20a1442f"
      },
      "outputs": [
        {
          "name": "stdout",
          "output_type": "stream",
          "text": [
            "Testing for 10 episodes ...\n",
            "Episode 1: reward: 0.000, steps: 100000\n"
          ]
        }
      ],
      "source": [
        "weights_filename = 'dqn_{}_weights.h5f'.format(ENV_NAME)\n",
        "dqn.load_weights(weights_filename)\n",
        "dqn.test(env, nb_episodes=10, visualize=True)"
      ]
    },
    {
      "cell_type": "markdown",
      "metadata": {
        "id": "DwpIfMqFcbDB"
      },
      "source": [
        "### References\n",
        "- [Playing Atari with Deep Reinforcement Learning](https://arxiv.org/abs/1312.5602), Mnih et al., 2013\n",
        "- [Human-level control through deep reinforcement learning](http://www.nature.com/nature/journal/v518/n7540/abs/nature14236.html), Mnih et al., 2015\n",
        "- [Deep Reinforcement Learning with Double Q-learning](http://www0.cs.ucl.ac.uk/staff/d.silver/web/Applications_files/doubledqn.pdf), van Hasselt et al., 2015\n",
        "- [Dueling Network Architectures for Deep Reinforcement Learning](https://arxiv.org/abs/1511.06581), Wang et al., 2016"
      ]
    }
  ],
  "metadata": {
    "kernelspec": {
      "display_name": "Python 2",
      "language": "python",
      "name": "python2"
    },
    "language_info": {
      "codemirror_mode": {
        "name": "ipython",
        "version": 2
      },
      "file_extension": ".py",
      "mimetype": "text/x-python",
      "name": "python",
      "nbconvert_exporter": "python",
      "pygments_lexer": "ipython2",
      "version": "2.7.16"
    },
    "colab": {
      "provenance": [],
      "include_colab_link": true
    }
  },
  "nbformat": 4,
  "nbformat_minor": 0
}